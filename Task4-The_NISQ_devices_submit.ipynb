{
 "cells": [
  {
   "cell_type": "markdown",
   "id": "9f232a80",
   "metadata": {},
   "source": [
    " # SWAP Test algorithm\n",
    " \n",
    "We have the two input states $|\\psi_1\\rangle$ and $|\\psi_2\\rangle$ and our goal is to measure the inner product (overlap) or fidelity of these states using the SWAP test. We will later add depolarising error to gauge its effects on the measurement.\n",
    "\n",
    "Starting with an initial state $|0,\\psi_1,\\psi_2\\rangle$, we apply the Hadamard gate on the first qubit to get $(|0,\\psi_1,\\psi_2\\rangle + |1,\\psi_1,\\psi_2\\rangle)/\\sqrt{2}$. Then, we apply the controlled-SWAP gate with the first qubit as control and the other qubits as targets to swap the two input states. We get $(|0,\\psi_1,\\psi_2\\rangle +|1,\\psi_2,\\psi_1\\rangle)/\\sqrt{2}$. Then, we apply the Hadamard gate again on the first qubit to get $(|0,\\psi_1,\\psi_2\\rangle + |1,\\psi_1,\\psi_2\\rangle + |0,\\psi_2,\\psi_1\\rangle - |1,\\psi_2,\\psi_1\\rangle)/2 = |0\\rangle [ |\\psi_1,\\psi_2\\rangle + |\\psi_2,\\psi_1\\rangle] /2 +  |1\\rangle [|\\psi_1,\\psi_2\\rangle  - |\\psi_2,\\psi_1\\rangle]/2 $. Then, the probability of measuring the first qubit in $|0\\rangle$ is $ [\\langle\\psi_1,\\psi_2|+ \\langle\\psi_2,\\psi_1|][ |\\psi_1,\\psi_2\\rangle+ |\\psi_2,\\psi_1\\rangle] /4 = 1/2 + |\\langle \\psi_1 | \\psi_2 \\rangle |^2/2 \\equiv P_0$.\n",
    "\n",
    "We obtain a good estimate for $P_0$ by measuring the final state of the first qubit over many shots. Then, we obtain the fidelity as:\n",
    "$\\mathcal{F}(|\\psi_1\\rangle,|\\psi_2\\rangle)=2P_0-1$.\n",
    "\n",
    "# Depolarizing noise\n",
    "\n",
    "Depolarising noise maps a density matrix $\\rho$ into a linear combination of itself and the identity matrix, where the coefficients depend on the error rate $\\lambda$, such that the density matrix with noise acted upon it is given as\n",
    "$\\rho_{f} = (1-\\lambda)\\rho + (\\lambda/d) I$, where $d$ is the dimension of the Hilbert space. Thus, adding depolarising noise destroys the coherences (superposition) and the entanglement between qubits in the circuit. The resulting state becomes more and more mixed as the error rate is increased. \n",
    "\n",
    "\n",
    "# Effect of depolarizing noise on the SWAP test\n",
    "\n",
    "At the maximum error rate, $\\lambda=1$, the state becomes maximally mixed and is described as $\\rho_{f} = (1/d) I$, such that the probability of measuring either $|0\\rangle$, i.e., $P_0$, or $|1\\rangle$, i.e., $1-P_0$ becomes equal, i.e., $P_0=1/2$. All information about the input states is lost and the fidelity, as defined earlier, reflects that as it becomes zero. However, the previously defined version of fidelity is no longer valid with noise due to the mixedness of the quantum state. The full state can only be described using the density matrix $\\rho_f$ and the fidelity is defined as $Tr(\\rho_1\\rho_2)$, where $\\rho_1 = |\\psi_1\\rangle  \\langle\\psi_1|$ and $\\rho_2 = |\\psi_2\\rangle  \\langle\\psi_2|$. This mixedness cannot be measured as explained earlier using the Swap Test. \n",
    "\n",
    "Now, we will perform the SWAP test and vary the error rate $\\lambda$ from 0 to 1 to demonstrate the effect of depolarizing noise on our circuit. We further compare how the number of gates to which the depolarizing noise is added plays a role in reducing the value of $\\mathcal{F}$."
   ]
  },
  {
   "cell_type": "markdown",
   "id": "ff29499b",
   "metadata": {},
   "source": [
    "## Import libraries"
   ]
  },
  {
   "cell_type": "code",
   "execution_count": 1,
   "id": "54e3fc87",
   "metadata": {},
   "outputs": [],
   "source": [
    "from qiskit import QuantumCircuit, ClassicalRegister, QuantumRegister, transpile, execute\n",
    "from qiskit.tools.visualization import circuit_drawer\n",
    "from qiskit.quantum_info import state_fidelity\n",
    "from qiskit import BasicAer\n",
    "from qiskit_aer.noise import NoiseModel\n",
    "from qiskit_aer.noise import depolarizing_error\n",
    "from qiskit_aer import AerSimulator\n",
    "from qiskit.quantum_info import DensityMatrix, partial_trace, purity\n",
    "\n",
    "import math\n",
    "import numpy as np\n",
    "import matplotlib.pyplot as plt\n"
   ]
  },
  {
   "cell_type": "markdown",
   "id": "4fe53662",
   "metadata": {},
   "source": [
    "## Circuit to initialize a desired state"
   ]
  },
  {
   "cell_type": "code",
   "execution_count": 2,
   "id": "5f286312",
   "metadata": {},
   "outputs": [],
   "source": [
    "def f_prep_state(statevec_list):\n",
    "    \n",
    "    '''\n",
    "    statevec_list: list or numpy array of desired state\n",
    "    \n",
    "    output: circuit qc initializes qubits into state statevec_list\n",
    "    '''\n",
    "    \n",
    "    n_qubits = int(np.log2(len(statevec_list)))\n",
    "    qbits = QuantumRegister(n_qubits)\n",
    "    qc = QuantumCircuit(qbits)\n",
    "    \n",
    "    # initialize state to statevec_list\n",
    "    \n",
    "    qc.initialize(statevec_list, qbits)\n",
    "    \n",
    "    return qc"
   ]
  },
  {
   "cell_type": "markdown",
   "id": "00ba8637",
   "metadata": {},
   "source": [
    "## Circuit to implement a SWAP test"
   ]
  },
  {
   "cell_type": "code",
   "execution_count": 3,
   "id": "48b104c9",
   "metadata": {},
   "outputs": [],
   "source": [
    "def f_SWAP_test(input1, input2):  \n",
    "    \n",
    "    '''\n",
    "    input1: list or numpy array of desired state 1\n",
    "    input2: list or numpy array of desired state 2\n",
    "    \n",
    "    output: circuit qc implements SWAP test on input1 and input2\n",
    "    '''\n",
    "    \n",
    "    n_qubits = int(np.log2(len(input1)))\n",
    "    qbits = QuantumRegister(1+2*n_qubits)\n",
    "    cbits = ClassicalRegister(1)\n",
    "    qc = QuantumCircuit(qbits, cbits)\n",
    "    \n",
    "    # apply Hadamard to ancilla\n",
    "    qc.h(qbits[0])\n",
    "    \n",
    "    qc.barrier(qbits)\n",
    "    \n",
    "    # initialize input1\n",
    "    state1 = f_prep_state(input1)\n",
    "    list_qubits_comp = np.arange(1, n_qubits+1, 1)\n",
    "    qc.compose(state1, qubits=list_qubits_comp, inplace=True)\n",
    "    \n",
    "    qc.barrier(qbits)\n",
    "    \n",
    "    # initialize input2\n",
    "    state2 = f_prep_state(input2)\n",
    "    list_qubits_comp = np.arange(n_qubits+1, 2*n_qubits+1, 1)\n",
    "    qc.compose(state2, qubits=list_qubits_comp, inplace=True)\n",
    "    \n",
    "    qc.barrier(qbits)\n",
    "    \n",
    "    # apply controlled-SWAP gate to swap input1 and input2\n",
    "    for i in range(1, n_qubits+1):\n",
    "        qc.cswap(qbits[0],qbits[i],qbits[i+n_qubits])\n",
    "        \n",
    "    qc.barrier(qbits)\n",
    "    \n",
    "    # apply Hadamard to ancilla\n",
    "    qc.h(qbits[0])\n",
    "    \n",
    "    \n",
    "    # measure ancilla\n",
    "    qc.measure(qbits[0],cbits[0])\n",
    "    \n",
    "    return qc\n",
    "    "
   ]
  },
  {
   "cell_type": "markdown",
   "id": "19cd465c",
   "metadata": {},
   "source": [
    "## Function to run SWAP test circuit with any given noise model"
   ]
  },
  {
   "cell_type": "code",
   "execution_count": 4,
   "id": "d296738b",
   "metadata": {},
   "outputs": [],
   "source": [
    "def f_run_SWAP_test(input1, input2, n_shots, input_noise_model):\n",
    "    '''\n",
    "    input1: list or numpy array of desired state 1\n",
    "    input2: list or numpy array of desired state 2\n",
    "    n_shots: number of shots for running simulator\n",
    "    input_noise_model: noise model to be added to the simulator\n",
    "    output: \n",
    "        fidelity: fidelity of input1 and input2 estimated using the SWAP test\n",
    "        qc: quantum circuit of the SWAP test\n",
    "    '''\n",
    "    qc = f_SWAP_test(input1, input2)\n",
    "    \n",
    "    # Create noisy simulator backend\n",
    "    sim_noise = AerSimulator(shots=n_shots, noise_model=input_noise_model)\n",
    "\n",
    "    # Transpile circuit for noisy basis gates\n",
    "    qc_noise = transpile(qc, sim_noise)\n",
    "\n",
    "    result_noise = sim_noise.run(qc_noise).result()\n",
    "    counts = result_noise.get_counts(0)\n",
    "\n",
    "    \n",
    "    # calculate fidelity from the measured counts\n",
    "    fidelity = -1.0 + 2*counts['0']/n_shots\n",
    "    return fidelity, qc_noise"
   ]
  },
  {
   "cell_type": "markdown",
   "id": "f66483ee",
   "metadata": {},
   "source": [
    "# First noise model: add depolarizing error to the controlled-SWAP gates"
   ]
  },
  {
   "cell_type": "code",
   "execution_count": 14,
   "id": "f7a5db04",
   "metadata": {},
   "outputs": [],
   "source": [
    "# input1_list and input2_list are lists of input states corresponfing to the three user cases defined in the \n",
    "# problem in Task 4: 1-qubit, 2-qubit, and 3-qubit pairs of states\n",
    "\n",
    "input1_list = ([np.sqrt(np.array([0.3,0.7])), np.sqrt(np.array([0.1,0.2,0.6,0.1])),\n",
    "               np.sqrt(np.array([0.01,0.1,0.12,0.13,0.04,0,0.35,0.25]))])\n",
    "input2_list = ([np.sqrt(np.array([0.6,0.4])), np.sqrt(np.array([0, 0.5,0.1,0.4])),\n",
    "               np.sqrt(np.array([0,0.2,0.2,0.1,0.2,0.05,0.05,0.2]))])\n",
    "\n",
    "# n_shots = number of measurement shots of quantum circuit to obtain the inner product/fidelity of states\n",
    "n_shots = 20000\n",
    "\n",
    "# prob_list = error probabilities' list\n",
    "prob_list = np.linspace(0.01, 1, 11)\n",
    "\n",
    "# fidelity list = measured fidelity of input1 and input2 for each error prob and user case\n",
    "fidelity_list = np.zeros((len(prob_list),len(input1_list)))\n",
    "num_total_gates = np.zeros((len(prob_list),len(input1_list)))\n",
    "num_cswap_gates = np.zeros((len(prob_list),len(input1_list)))\n",
    "\n",
    "\n",
    "for ip,prob in enumerate(prob_list):\n",
    "    \n",
    "    # Depolarizing quantum error applied to a 3-qubit gate\n",
    "    error = depolarizing_error(prob, 3)\n",
    "\n",
    "    # Add error to noise model\n",
    "    noise_model = NoiseModel()\n",
    "    noise_model.add_all_qubit_quantum_error(error, ['cswap'])\n",
    "    \n",
    "    # Run the simulator to measure fidelities of each user case for given error prob of cswap gate\n",
    "    \n",
    "    for i_in in range(0, len(input1_list)):\n",
    "    \n",
    "        input1 = input1_list[i_in]\n",
    "        input2 = input2_list[i_in]\n",
    "\n",
    "        fidelity, qc = f_run_SWAP_test(input1, input2, n_shots, noise_model)\n",
    "\n",
    "        fidelity_list[ip,i_in] = fidelity\n",
    "        dict_count_gates = dict(qc.count_ops())\n",
    "        num_total_gates[ip,i_in] = (dict_count_gates['rz']+dict_count_gates['sx']+dict_count_gates['cswap'])\n",
    "        num_cswap_gates[ip,i_in] = dict_count_gates['cswap']\n"
   ]
  },
  {
   "cell_type": "code",
   "execution_count": 27,
   "id": "6a8ce657",
   "metadata": {},
   "outputs": [
    {
     "data": {
      "image/png": "[encoded data removed]",
      "text/plain": [
       "<Figure size 432x288 with 1 Axes>"
      ]
     },
     "metadata": {
      "needs_background": "light"
     },
     "output_type": "display_data"
    }
   ],
   "source": [
    "fs = 20\n",
    "\n",
    "for i_in in range(0, len(input1_list)):\n",
    "    plt.plot(prob_list, fidelity_list[:,i_in],'o-',label=str(i_in+1)+'-qubit states')\n",
    "    \n",
    "plt.ylabel('Fidelity: '+r'$|\\langle \\psi_1 | \\psi_2 \\rangle |^2$', fontsize=fs)\n",
    "plt.xlabel('error rate',fontsize=fs)\n",
    "plt.xticks(fontsize=fs)\n",
    "plt.yticks(fontsize=fs)\n",
    "plt.legend(loc='best',fontsize=fs-7)\n",
    "#plt.xscale('log')\n",
    "#plt.yscale('log')\n",
    "plt.show()\n",
    "\n"
   ]
  },
  {
   "cell_type": "markdown",
   "id": "282541f5",
   "metadata": {},
   "source": [
    "## Conclusions:\n",
    "\n",
    "1. Fidelity goes down with increase in error rate, as expected.\n",
    "2. Fidelity goes down faster for larger input states because the number of cswap gates is equal to $N$, where $N$ is also the number of qubits required to encode a quantum state. The error is applied to only the cswap gate, so the error increases with the number of times the cswap gate is applied.\n",
    "    "
   ]
  },
  {
   "cell_type": "markdown",
   "id": "3c88dbe9",
   "metadata": {},
   "source": [
    "# Second noise model: add depolarizing error to the $R_z$ gate"
   ]
  },
  {
   "cell_type": "code",
   "execution_count": 32,
   "id": "2f7d7633",
   "metadata": {},
   "outputs": [],
   "source": [
    "# input1_list and input2_list are lists of input states corresponfing to the three user cases defined in the \n",
    "# problem in Task 4: 1-qubit, 2-qubit, and 3-qubit pairs of states\n",
    "\n",
    "input1_list = ([np.sqrt(np.array([0.3,0.7])), np.sqrt(np.array([0.1,0.2,0.6,0.1])),\n",
    "               np.sqrt(np.array([0.01,0.1,0.12,0.13,0.04,0,0.35,0.25]))])\n",
    "input2_list = ([np.sqrt(np.array([0.6,0.4])), np.sqrt(np.array([0, 0.5,0.1,0.4])),\n",
    "               np.sqrt(np.array([0,0.2,0.2,0.1,0.2,0.05,0.05,0.2]))])\n",
    "\n",
    "# n_shots = number of measurement shots of quantum circuit to obtain the inner product/fidelity of states\n",
    "n_shots = 20000\n",
    "\n",
    "# prob_list = error probabilities' list\n",
    "prob_list = np.linspace(0.01, 1, 21)\n",
    "\n",
    "# fidelity list = measured fidelity of input1 and input2 for each error prob and user case\n",
    "fidelity_list = np.zeros((len(prob_list),len(input1_list)))\n",
    "num_total_gates = np.zeros((len(prob_list),len(input1_list)))\n",
    "num_rz_gates = np.zeros((len(prob_list),len(input1_list)))\n",
    "\n",
    "\n",
    "\n",
    "for ip,prob in enumerate(prob_list):\n",
    "    \n",
    "    # Depolarizing quantum error applied to a 1-qubit gate\n",
    "    error = depolarizing_error(prob, 1)\n",
    "\n",
    "    # Add error to noise model\n",
    "    noise_model = NoiseModel()\n",
    "    noise_model.add_all_qubit_quantum_error(error, ['rz'])\n",
    "    \n",
    "    # Run the simulator to measure fidelities of each user case for given error prob of rz gate\n",
    "    \n",
    "    for i_in in range(0, len(input1_list)):\n",
    "    \n",
    "        input1 = input1_list[i_in]\n",
    "        input2 = input2_list[i_in]\n",
    "\n",
    "        fidelity, qc = f_run_SWAP_test(input1, input2, n_shots, noise_model)\n",
    "\n",
    "        fidelity_list[ip,i_in] = fidelity\n",
    "        dict_count_gates = dict(qc.count_ops())\n",
    "        num_total_gates[ip,i_in] = (dict_count_gates['rz']+dict_count_gates['sx']+dict_count_gates['cx'])\n",
    "        num_rz_gates[ip,i_in] = dict_count_gates['rz']\n"
   ]
  },
  {
   "cell_type": "code",
   "execution_count": 45,
   "id": "326c2907",
   "metadata": {},
   "outputs": [
    {
     "data": {
      "image/png": "[encoded data removed]",
      "text/plain": [
       "<Figure size 432x288 with 1 Axes>"
      ]
     },
     "metadata": {
      "needs_background": "light"
     },
     "output_type": "display_data"
    },
    {
     "data": {
      "image/png": "[encoded data removed]",
      "text/plain": [
       "<Figure size 432x288 with 1 Axes>"
      ]
     },
     "metadata": {
      "needs_background": "light"
     },
     "output_type": "display_data"
    }
   ],
   "source": [
    "fs = 20\n",
    "\n",
    "\n",
    "for i_in in range(0, len(input1_list)):\n",
    "    plt.plot(prob_list, fidelity_list[:,i_in],'o-',label=str(i_in+1)+'-qubit states')\n",
    "    \n",
    "plt.ylabel('Fidelity: '+r'$|\\langle \\psi_1 | \\psi_2 \\rangle |^2$', fontsize=fs)\n",
    "plt.xlabel('error rate',fontsize=fs)\n",
    "plt.xticks(fontsize=fs)\n",
    "plt.yticks(fontsize=fs)\n",
    "plt.legend(loc='best',fontsize=fs-7)\n",
    "#plt.xscale('log')\n",
    "plt.yscale('log')\n",
    "plt.ylim([1e-2,1])\n",
    "plt.show()\n",
    "\n",
    "plt.plot([2*1+1,2*2+1,2*3+1], num_rz_gates[0,:],'o-')\n",
    "    \n",
    "plt.ylabel(r'# of $R_z$ gates', fontsize=fs)\n",
    "plt.xlabel('# of qubits in circuit',fontsize=fs)\n",
    "plt.xticks([2*1+1,2*2+1,2*3+1],fontsize=fs)\n",
    "plt.yticks(fontsize=fs)\n",
    "\n",
    "plt.show()"
   ]
  },
  {
   "cell_type": "markdown",
   "id": "9538e63b",
   "metadata": {},
   "source": [
    "## Conclusions:\n",
    "\n",
    "Fidelity decays exponentially fast for all input states. The decay rate of fidelity is larger for larger input states. The number of gates with error also increases very quickly with the number of qubits in the circuit because $R_z$ gates are used in all parts of the circuit -- Hadamard gates, input state preparation, cswap gate, as shown below for a simple case of the 1-qubit state."
   ]
  },
  {
   "cell_type": "code",
   "execution_count": 49,
   "id": "a5aad6e2",
   "metadata": {},
   "outputs": [
    {
     "data": {
      "text/html": [
       "<pre style=\"word-wrap: normal;white-space: pre;background: #fff0;line-height: 1.1;font-family: &quot;Courier New&quot;,Courier,monospace\">global phase: π/8\n",
       "         ┌─────────┐┌────┐┌─────────┐ ░                                    »\n",
       "q5077_0: ┤ Rz(π/2) ├┤ √X ├┤ Rz(π/2) ├─░────────────────────────────────────»\n",
       "         └─────────┘└────┘└─────────┘ ░      ┌────────┐┌────┐┌────────────┐»\n",
       "q5077_1: ─────────────────────────────░──|0>─┤ Rz(-π) ├┤ √X ├┤ Rz(1.1593) ├»\n",
       "                                      ░      └────────┘└────┘└────────────┘»\n",
       "q5077_2: ─────────────────────────────░────────────────────────────────────»\n",
       "                                      ░                                    »\n",
       " c229: 1/══════════════════════════════════════════════════════════════════»\n",
       "                                                                           »\n",
       "«                ░                                           ░                 »\n",
       "«q5077_0: ───────░───────────────────────────────────────────░─────────────────»\n",
       "«         ┌────┐ ░                                           ░ ┌───┐           »\n",
       "«q5077_1: ┤ √X ├─░───────────────────────────────────────────░─┤ X ├───────────»\n",
       "«         └────┘ ░      ┌────────┐┌────┐┌────────────┐┌────┐ ░ └─┬─┘┌─────────┐»\n",
       "«q5077_2: ───────░──|0>─┤ Rz(-π) ├┤ √X ├┤ Rz(1.7722) ├┤ √X ├─░───■──┤ Rz(π/2) ├»\n",
       "«                ░      └────────┘└────┘└────────────┘└────┘ ░      └─────────┘»\n",
       "« c229: 1/═════════════════════════════════════════════════════════════════════»\n",
       "«                                                                              »\n",
       "«                                                                            »\n",
       "«q5077_0: ────────────────────────────────────■──────────────────────────────»\n",
       "«                                             │                  ┌─────────┐ »\n",
       "«q5077_1: ───────────────────■────────────────┼───────────────■──┤ Rz(π/4) ├─»\n",
       "«         ┌────┐┌─────────┐┌─┴─┐┌──────────┐┌─┴─┐┌─────────┐┌─┴─┐├─────────┴┐»\n",
       "«q5077_2: ┤ √X ├┤ Rz(π/2) ├┤ X ├┤ Rz(-π/4) ├┤ X ├┤ Rz(π/4) ├┤ X ├┤ Rz(-π/4) ├»\n",
       "«         └────┘└─────────┘└───┘└──────────┘└───┘└─────────┘└───┘└──────────┘»\n",
       "« c229: 1/═══════════════════════════════════════════════════════════════════»\n",
       "«                                                                            »\n",
       "«                          ┌─────────┐                  ░ ┌─────────┐┌────┐»\n",
       "«q5077_0: ──■───────■──────┤ Rz(π/4) ├──────■───────────░─┤ Rz(π/2) ├┤ √X ├»\n",
       "«           │     ┌─┴─┐    ├─────────┴┐   ┌─┴─┐   ┌───┐ ░ └─────────┘└────┘»\n",
       "«q5077_1: ──┼─────┤ X ├────┤ Rz(-π/4) ├───┤ X ├───┤ X ├─░──────────────────»\n",
       "«         ┌─┴─┐┌──┴───┴───┐└──┬────┬──┘┌──┴───┴──┐└─┬─┘ ░                  »\n",
       "«q5077_2: ┤ X ├┤ Rz(3π/4) ├───┤ √X ├───┤ Rz(π/2) ├──■───░──────────────────»\n",
       "«         └───┘└──────────┘   └────┘   └─────────┘      ░                  »\n",
       "« c229: 1/═════════════════════════════════════════════════════════════════»\n",
       "«                                                                          »\n",
       "«         ┌─────────┐┌─┐\n",
       "«q5077_0: ┤ Rz(π/2) ├┤M├\n",
       "«         └─────────┘└╥┘\n",
       "«q5077_1: ────────────╫─\n",
       "«                     ║ \n",
       "«q5077_2: ────────────╫─\n",
       "«                     ║ \n",
       "« c229: 1/════════════╩═\n",
       "«                     0 </pre>"
      ],
      "text/plain": [
       "global phase: π/8\n",
       "         ┌─────────┐┌────┐┌─────────┐ ░                                    »\n",
       "q5077_0: ┤ Rz(π/2) ├┤ √X ├┤ Rz(π/2) ├─░────────────────────────────────────»\n",
       "         └─────────┘└────┘└─────────┘ ░      ┌────────┐┌────┐┌────────────┐»\n",
       "q5077_1: ─────────────────────────────░──|0>─┤ Rz(-π) ├┤ √X ├┤ Rz(1.1593) ├»\n",
       "                                      ░      └────────┘└────┘└────────────┘»\n",
       "q5077_2: ─────────────────────────────░────────────────────────────────────»\n",
       "                                      ░                                    »\n",
       " c229: 1/══════════════════════════════════════════════════════════════════»\n",
       "                                                                           »\n",
       "«                ░                                           ░                 »\n",
       "«q5077_0: ───────░───────────────────────────────────────────░─────────────────»\n",
       "«         ┌────┐ ░                                           ░ ┌───┐           »\n",
       "«q5077_1: ┤ √X ├─░───────────────────────────────────────────░─┤ X ├───────────»\n",
       "«         └────┘ ░      ┌────────┐┌────┐┌────────────┐┌────┐ ░ └─┬─┘┌─────────┐»\n",
       "«q5077_2: ───────░──|0>─┤ Rz(-π) ├┤ √X ├┤ Rz(1.7722) ├┤ √X ├─░───■──┤ Rz(π/2) ├»\n",
       "«                ░      └────────┘└────┘└────────────┘└────┘ ░      └─────────┘»\n",
       "« c229: 1/═════════════════════════════════════════════════════════════════════»\n",
       "«                                                                              »\n",
       "«                                                                            »\n",
       "«q5077_0: ────────────────────────────────────■──────────────────────────────»\n",
       "«                                             │                  ┌─────────┐ »\n",
       "«q5077_1: ───────────────────■────────────────┼───────────────■──┤ Rz(π/4) ├─»\n",
       "«         ┌────┐┌─────────┐┌─┴─┐┌──────────┐┌─┴─┐┌─────────┐┌─┴─┐├─────────┴┐»\n",
       "«q5077_2: ┤ √X ├┤ Rz(π/2) ├┤ X ├┤ Rz(-π/4) ├┤ X ├┤ Rz(π/4) ├┤ X ├┤ Rz(-π/4) ├»\n",
       "«         └────┘└─────────┘└───┘└──────────┘└───┘└─────────┘└───┘└──────────┘»\n",
       "« c229: 1/═══════════════════════════════════════════════════════════════════»\n",
       "«                                                                            »\n",
       "«                          ┌─────────┐                  ░ ┌─────────┐┌────┐»\n",
       "«q5077_0: ──■───────■──────┤ Rz(π/4) ├──────■───────────░─┤ Rz(π/2) ├┤ √X ├»\n",
       "«           │     ┌─┴─┐    ├─────────┴┐   ┌─┴─┐   ┌───┐ ░ └─────────┘└────┘»\n",
       "«q5077_1: ──┼─────┤ X ├────┤ Rz(-π/4) ├───┤ X ├───┤ X ├─░──────────────────»\n",
       "«         ┌─┴─┐┌──┴───┴───┐└──┬────┬──┘┌──┴───┴──┐└─┬─┘ ░                  »\n",
       "«q5077_2: ┤ X ├┤ Rz(3π/4) ├───┤ √X ├───┤ Rz(π/2) ├──■───░──────────────────»\n",
       "«         └───┘└──────────┘   └────┘   └─────────┘      ░                  »\n",
       "« c229: 1/═════════════════════════════════════════════════════════════════»\n",
       "«                                                                          »\n",
       "«         ┌─────────┐┌─┐\n",
       "«q5077_0: ┤ Rz(π/2) ├┤M├\n",
       "«         └─────────┘└╥┘\n",
       "«q5077_1: ────────────╫─\n",
       "«                     ║ \n",
       "«q5077_2: ────────────╫─\n",
       "«                     ║ \n",
       "« c229: 1/════════════╩═\n",
       "«                     0 "
      ]
     },
     "execution_count": 49,
     "metadata": {},
     "output_type": "execute_result"
    }
   ],
   "source": [
    "# Depolarizing quantum error applied to a 1-qubit gate\n",
    "error = depolarizing_error(prob, 1)\n",
    "\n",
    "# Add error to noise model\n",
    "noise_model = NoiseModel()\n",
    "noise_model.add_all_qubit_quantum_error(error, ['rz'])\n",
    "\n",
    "# Run the simulator to measure fidelities of each user case for given error prob of rz gate\n",
    "\n",
    "i_in = 0\n",
    "\n",
    "input1 = input1_list[i_in]\n",
    "input2 = input2_list[i_in]\n",
    "\n",
    "fidelity, qc = f_run_SWAP_test(input1, input2, n_shots, noise_model)\n",
    "\n",
    "\n",
    "qc.draw()"
   ]
  },
  {
   "cell_type": "markdown",
   "id": "c64be5c4",
   "metadata": {},
   "source": [
    "## Final conclusions:\n",
    "\n",
    "1. The decay of fidelity has been used as a measure of mixedness of the system due to depolarizing noise.\n",
    "\n",
    "\n",
    "2. The rate of increase of mixedness depends on three factors -- \n",
    "    \n",
    "    (a) the error rate, \n",
    "    \n",
    "    (b) the number of gates to which the noise is applied, and \n",
    "    \n",
    "    (b) the number of qubits in the circuit. \n",
    "    \n",
    "    \n",
    "    Mixedness increases as each factor is increased.\n",
    "\n",
    "3. To improve the performance of this quantum circuit under noise, we need to use error correction schemes, which can correct depolarizing, i.e., bit-flip errors. There are many such schemes (Steane code, Shor code, Bit-flip code, etc) and depending on the presence of other types of error, we can choose a scheme which fits best."
   ]
  },
  {
   "cell_type": "code",
   "execution_count": null,
   "id": "4c35f3e6",
   "metadata": {},
   "outputs": [],
   "source": []
  }
 ],
 "metadata": {
  "kernelspec": {
   "display_name": "Python 3 (ipykernel)",
   "language": "python",
   "name": "python3"
  },
  "language_info": {
   "codemirror_mode": {
    "name": "ipython",
    "version": 3
   },
   "file_extension": ".py",
   "mimetype": "text/x-python",
   "name": "python",
   "nbconvert_exporter": "python",
   "pygments_lexer": "ipython3",
   "version": "3.9.12"
  }
 },
 "nbformat": 4,
 "nbformat_minor": 5
}
